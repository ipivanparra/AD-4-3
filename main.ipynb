{
 "cells": [
  {
   "cell_type": "code",
   "execution_count": 6,
   "metadata": {},
   "outputs": [
    {
     "name": "stdout",
     "output_type": "stream",
     "text": [
      "Binary representation: \n"
     ]
    }
   ],
   "source": [
    "decimal_num = int(input('Enter a value: '))\n",
    "\n",
    "binary_rep = \"\"\n",
    "while decimal_num > 0:\n",
    "    binary_rep = str(decimal_num % 2) + binary_rep\n",
    "\n",
    "   \n",
    "\n",
    "\n",
    "print(\"Binary representation:\", binary_rep)"
   ]
  }
 ],
 "metadata": {
  "kernelspec": {
   "display_name": "Python 3",
   "language": "python",
   "name": "python3"
  },
  "language_info": {
   "codemirror_mode": {
    "name": "ipython",
    "version": 3
   },
   "file_extension": ".py",
   "mimetype": "text/x-python",
   "name": "python",
   "nbconvert_exporter": "python",
   "pygments_lexer": "ipython3",
   "version": "3.12.7"
  }
 },
 "nbformat": 4,
 "nbformat_minor": 2
}
