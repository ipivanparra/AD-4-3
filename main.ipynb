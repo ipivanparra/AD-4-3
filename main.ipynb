{
 "cells": [
  {
   "cell_type": "code",
   "execution_count": null,
   "metadata": {},
   "outputs": [],
   "source": [
    "decimal_num = int(input('Enter a value: '))\n",
    "\n",
    "binary_rep = \"\"\n",
    "while decimal_num > 0:\n",
    "    binary_rep = str(decimal_num % 2) + binary_rep\n",
    "\n",
    "    decimal_num = decimal_num // 2  \n",
    "\n",
    "\n",
    "print(\"Binary representation:\", binary_rep)"
   ]
  }
 ],
 "metadata": {
  "kernelspec": {
   "display_name": "Python 3",
   "language": "python",
   "name": "python3"
  },
  "language_info": {
   "codemirror_mode": {
    "name": "ipython",
    "version": 3
   },
   "file_extension": ".py",
   "mimetype": "text/x-python",
   "name": "python",
   "nbconvert_exporter": "python",
   "pygments_lexer": "ipython3",
   "version": "3.12.7"
  }
 },
 "nbformat": 4,
 "nbformat_minor": 2
}
